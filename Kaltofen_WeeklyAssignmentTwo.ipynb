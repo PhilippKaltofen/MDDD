{
 "cells": [
  {
   "attachments": {},
   "cell_type": "markdown",
   "metadata": {},
   "source": [
    "# Speed Dating Analysis\n",
    "#### Philipp Kaltofen | 1839909"
   ]
  },
  {
   "cell_type": "markdown",
   "metadata": {},
   "source": [
    "### Introduction\n",
    "For this assignment I chose the Speed Dating dataset from Kaggle (https://www.kaggle.com/datasets/annavictoria/speed-dating-experiment)."
   ]
  },
  {
   "cell_type": "code",
   "execution_count": 2,
   "metadata": {},
   "outputs": [
    {
     "name": "stderr",
     "output_type": "stream",
     "text": [
      "c:\\Users\\pkalt\\Anaconda3\\lib\\site-packages\\pandas\\compat\\_optional.py:138: UserWarning: Pandas requires version '2.7.0' or newer of 'numexpr' (version '2.6.9' currently installed).\n",
      "  warnings.warn(msg, UserWarning)\n"
     ]
    }
   ],
   "source": [
    "# library imports\n",
    "import numpy as np\n",
    "import pandas as pd\n",
    "import seaborn as sns\n",
    "import matplotlib.pyplot as plt\n",
    "from scipy.stats.stats import pearsonr\n",
    "import math"
   ]
  },
  {
   "cell_type": "code",
   "execution_count": 3,
   "metadata": {},
   "outputs": [],
   "source": [
    "import warnings\n",
    "warnings.filterwarnings(\"ignore\", category=DeprecationWarning) "
   ]
  },
  {
   "cell_type": "code",
   "execution_count": 4,
   "metadata": {},
   "outputs": [],
   "source": [
    "# import csv file\n",
    "df = pd.read_csv(\"speedDating.csv\", encoding = \"ISO-8859-1\")"
   ]
  },
  {
   "cell_type": "code",
   "execution_count": 5,
   "metadata": {
    "scrolled": true
   },
   "outputs": [
    {
     "data": {
      "text/plain": [
       "<bound method NDFrame.head of       iid    id  gender  idg  condtn  wave  round  position  positin1  order  \\\n",
       "0       1   1.0       0    1       1     1     10         7       NaN      4   \n",
       "1       1   1.0       0    1       1     1     10         7       NaN      3   \n",
       "2       1   1.0       0    1       1     1     10         7       NaN     10   \n",
       "3       1   1.0       0    1       1     1     10         7       NaN      5   \n",
       "4       1   1.0       0    1       1     1     10         7       NaN      7   \n",
       "...   ...   ...     ...  ...     ...   ...    ...       ...       ...    ...   \n",
       "8373  552  22.0       1   44       2    21     22        14      10.0      5   \n",
       "8374  552  22.0       1   44       2    21     22        13      10.0      4   \n",
       "8375  552  22.0       1   44       2    21     22        19      10.0     10   \n",
       "8376  552  22.0       1   44       2    21     22         3      10.0     16   \n",
       "8377  552   NaN       1   44       2    21     22         2      10.0     15   \n",
       "\n",
       "      ...  attr3_3  sinc3_3  intel3_3  fun3_3  amb3_3  attr5_3  sinc5_3  \\\n",
       "0     ...      5.0      7.0       7.0     7.0     7.0      NaN      NaN   \n",
       "1     ...      5.0      7.0       7.0     7.0     7.0      NaN      NaN   \n",
       "2     ...      5.0      7.0       7.0     7.0     7.0      NaN      NaN   \n",
       "3     ...      5.0      7.0       7.0     7.0     7.0      NaN      NaN   \n",
       "4     ...      5.0      7.0       7.0     7.0     7.0      NaN      NaN   \n",
       "...   ...      ...      ...       ...     ...     ...      ...      ...   \n",
       "8373  ...      8.0      5.0       7.0     6.0     7.0      9.0      5.0   \n",
       "8374  ...      8.0      5.0       7.0     6.0     7.0      9.0      5.0   \n",
       "8375  ...      8.0      5.0       7.0     6.0     7.0      9.0      5.0   \n",
       "8376  ...      8.0      5.0       7.0     6.0     7.0      9.0      5.0   \n",
       "8377  ...      8.0      5.0       7.0     6.0     7.0      9.0      5.0   \n",
       "\n",
       "      intel5_3  fun5_3  amb5_3  \n",
       "0          NaN     NaN     NaN  \n",
       "1          NaN     NaN     NaN  \n",
       "2          NaN     NaN     NaN  \n",
       "3          NaN     NaN     NaN  \n",
       "4          NaN     NaN     NaN  \n",
       "...        ...     ...     ...  \n",
       "8373       9.0     5.0     6.0  \n",
       "8374       9.0     5.0     6.0  \n",
       "8375       9.0     5.0     6.0  \n",
       "8376       9.0     5.0     6.0  \n",
       "8377       9.0     5.0     6.0  \n",
       "\n",
       "[8378 rows x 195 columns]>"
      ]
     },
     "execution_count": 5,
     "metadata": {},
     "output_type": "execute_result"
    }
   ],
   "source": [
    "# look at head\n",
    "df.head"
   ]
  },
  {
   "cell_type": "code",
   "execution_count": 6,
   "metadata": {},
   "outputs": [
    {
     "data": {
      "text/html": [
       "<div>\n",
       "<style scoped>\n",
       "    .dataframe tbody tr th:only-of-type {\n",
       "        vertical-align: middle;\n",
       "    }\n",
       "\n",
       "    .dataframe tbody tr th {\n",
       "        vertical-align: top;\n",
       "    }\n",
       "\n",
       "    .dataframe thead th {\n",
       "        text-align: right;\n",
       "    }\n",
       "</style>\n",
       "<table border=\"1\" class=\"dataframe\">\n",
       "  <thead>\n",
       "    <tr style=\"text-align: right;\">\n",
       "      <th></th>\n",
       "      <th>iid</th>\n",
       "      <th>id</th>\n",
       "      <th>gender</th>\n",
       "      <th>idg</th>\n",
       "      <th>condtn</th>\n",
       "      <th>wave</th>\n",
       "      <th>round</th>\n",
       "      <th>position</th>\n",
       "      <th>positin1</th>\n",
       "      <th>order</th>\n",
       "      <th>...</th>\n",
       "      <th>attr3_3</th>\n",
       "      <th>sinc3_3</th>\n",
       "      <th>intel3_3</th>\n",
       "      <th>fun3_3</th>\n",
       "      <th>amb3_3</th>\n",
       "      <th>attr5_3</th>\n",
       "      <th>sinc5_3</th>\n",
       "      <th>intel5_3</th>\n",
       "      <th>fun5_3</th>\n",
       "      <th>amb5_3</th>\n",
       "    </tr>\n",
       "  </thead>\n",
       "  <tbody>\n",
       "    <tr>\n",
       "      <th>iid</th>\n",
       "      <td>1.000000</td>\n",
       "      <td>0.117109</td>\n",
       "      <td>0.051937</td>\n",
       "      <td>0.120362</td>\n",
       "      <td>0.220413</td>\n",
       "      <td>0.996713</td>\n",
       "      <td>0.231881</td>\n",
       "      <td>0.081287</td>\n",
       "      <td>0.070443</td>\n",
       "      <td>0.090696</td>\n",
       "      <td>...</td>\n",
       "      <td>-0.003738</td>\n",
       "      <td>-0.005157</td>\n",
       "      <td>-0.117348</td>\n",
       "      <td>0.039944</td>\n",
       "      <td>-0.020409</td>\n",
       "      <td>0.092325</td>\n",
       "      <td>-0.053698</td>\n",
       "      <td>0.006949</td>\n",
       "      <td>0.100164</td>\n",
       "      <td>0.055229</td>\n",
       "    </tr>\n",
       "    <tr>\n",
       "      <th>id</th>\n",
       "      <td>0.117109</td>\n",
       "      <td>1.000000</td>\n",
       "      <td>-0.011623</td>\n",
       "      <td>0.998029</td>\n",
       "      <td>0.318768</td>\n",
       "      <td>0.091571</td>\n",
       "      <td>0.374462</td>\n",
       "      <td>0.168382</td>\n",
       "      <td>0.174008</td>\n",
       "      <td>0.149216</td>\n",
       "      <td>...</td>\n",
       "      <td>0.024213</td>\n",
       "      <td>-0.041815</td>\n",
       "      <td>-0.051621</td>\n",
       "      <td>-0.029917</td>\n",
       "      <td>0.010202</td>\n",
       "      <td>-0.018183</td>\n",
       "      <td>-0.007993</td>\n",
       "      <td>-0.088398</td>\n",
       "      <td>-0.046558</td>\n",
       "      <td>-0.119108</td>\n",
       "    </tr>\n",
       "    <tr>\n",
       "      <th>gender</th>\n",
       "      <td>0.051937</td>\n",
       "      <td>-0.011623</td>\n",
       "      <td>1.000000</td>\n",
       "      <td>0.033645</td>\n",
       "      <td>-0.002627</td>\n",
       "      <td>-0.001264</td>\n",
       "      <td>0.020630</td>\n",
       "      <td>-0.001091</td>\n",
       "      <td>0.005853</td>\n",
       "      <td>0.006685</td>\n",
       "      <td>...</td>\n",
       "      <td>-0.125433</td>\n",
       "      <td>-0.159709</td>\n",
       "      <td>0.023925</td>\n",
       "      <td>-0.144642</td>\n",
       "      <td>-0.058300</td>\n",
       "      <td>-0.103692</td>\n",
       "      <td>-0.289694</td>\n",
       "      <td>0.076538</td>\n",
       "      <td>-0.067432</td>\n",
       "      <td>0.055267</td>\n",
       "    </tr>\n",
       "    <tr>\n",
       "      <th>idg</th>\n",
       "      <td>0.120362</td>\n",
       "      <td>0.998029</td>\n",
       "      <td>0.033645</td>\n",
       "      <td>1.000000</td>\n",
       "      <td>0.324838</td>\n",
       "      <td>0.092645</td>\n",
       "      <td>0.387715</td>\n",
       "      <td>0.171495</td>\n",
       "      <td>0.177639</td>\n",
       "      <td>0.154691</td>\n",
       "      <td>...</td>\n",
       "      <td>0.020597</td>\n",
       "      <td>-0.051671</td>\n",
       "      <td>-0.051081</td>\n",
       "      <td>-0.036368</td>\n",
       "      <td>0.007404</td>\n",
       "      <td>-0.020785</td>\n",
       "      <td>-0.022967</td>\n",
       "      <td>-0.086071</td>\n",
       "      <td>-0.050316</td>\n",
       "      <td>-0.118940</td>\n",
       "    </tr>\n",
       "    <tr>\n",
       "      <th>condtn</th>\n",
       "      <td>0.220413</td>\n",
       "      <td>0.318768</td>\n",
       "      <td>-0.002627</td>\n",
       "      <td>0.324838</td>\n",
       "      <td>1.000000</td>\n",
       "      <td>0.219627</td>\n",
       "      <td>0.816316</td>\n",
       "      <td>0.329120</td>\n",
       "      <td>0.308641</td>\n",
       "      <td>0.324108</td>\n",
       "      <td>...</td>\n",
       "      <td>0.082965</td>\n",
       "      <td>0.034376</td>\n",
       "      <td>0.067836</td>\n",
       "      <td>0.066229</td>\n",
       "      <td>0.023614</td>\n",
       "      <td>0.068552</td>\n",
       "      <td>-0.063407</td>\n",
       "      <td>0.068622</td>\n",
       "      <td>0.114254</td>\n",
       "      <td>0.145598</td>\n",
       "    </tr>\n",
       "    <tr>\n",
       "      <th>...</th>\n",
       "      <td>...</td>\n",
       "      <td>...</td>\n",
       "      <td>...</td>\n",
       "      <td>...</td>\n",
       "      <td>...</td>\n",
       "      <td>...</td>\n",
       "      <td>...</td>\n",
       "      <td>...</td>\n",
       "      <td>...</td>\n",
       "      <td>...</td>\n",
       "      <td>...</td>\n",
       "      <td>...</td>\n",
       "      <td>...</td>\n",
       "      <td>...</td>\n",
       "      <td>...</td>\n",
       "      <td>...</td>\n",
       "      <td>...</td>\n",
       "      <td>...</td>\n",
       "      <td>...</td>\n",
       "      <td>...</td>\n",
       "      <td>...</td>\n",
       "    </tr>\n",
       "    <tr>\n",
       "      <th>attr5_3</th>\n",
       "      <td>0.092325</td>\n",
       "      <td>-0.018183</td>\n",
       "      <td>-0.103692</td>\n",
       "      <td>-0.020785</td>\n",
       "      <td>0.068552</td>\n",
       "      <td>0.092906</td>\n",
       "      <td>0.025047</td>\n",
       "      <td>0.073360</td>\n",
       "      <td>0.201356</td>\n",
       "      <td>0.009776</td>\n",
       "      <td>...</td>\n",
       "      <td>0.851922</td>\n",
       "      <td>0.177047</td>\n",
       "      <td>0.444624</td>\n",
       "      <td>0.400945</td>\n",
       "      <td>0.222258</td>\n",
       "      <td>1.000000</td>\n",
       "      <td>0.197948</td>\n",
       "      <td>0.378176</td>\n",
       "      <td>0.406725</td>\n",
       "      <td>0.205368</td>\n",
       "    </tr>\n",
       "    <tr>\n",
       "      <th>sinc5_3</th>\n",
       "      <td>-0.053698</td>\n",
       "      <td>-0.007993</td>\n",
       "      <td>-0.289694</td>\n",
       "      <td>-0.022967</td>\n",
       "      <td>-0.063407</td>\n",
       "      <td>-0.028111</td>\n",
       "      <td>-0.027437</td>\n",
       "      <td>0.099616</td>\n",
       "      <td>0.102406</td>\n",
       "      <td>-0.010260</td>\n",
       "      <td>...</td>\n",
       "      <td>0.222731</td>\n",
       "      <td>0.614853</td>\n",
       "      <td>0.313755</td>\n",
       "      <td>0.184837</td>\n",
       "      <td>0.130029</td>\n",
       "      <td>0.197948</td>\n",
       "      <td>1.000000</td>\n",
       "      <td>0.505440</td>\n",
       "      <td>0.331171</td>\n",
       "      <td>0.268553</td>\n",
       "    </tr>\n",
       "    <tr>\n",
       "      <th>intel5_3</th>\n",
       "      <td>0.006949</td>\n",
       "      <td>-0.088398</td>\n",
       "      <td>0.076538</td>\n",
       "      <td>-0.086071</td>\n",
       "      <td>0.068622</td>\n",
       "      <td>0.000644</td>\n",
       "      <td>0.000923</td>\n",
       "      <td>0.093856</td>\n",
       "      <td>0.112979</td>\n",
       "      <td>-0.000037</td>\n",
       "      <td>...</td>\n",
       "      <td>0.351189</td>\n",
       "      <td>0.275642</td>\n",
       "      <td>0.681735</td>\n",
       "      <td>0.251750</td>\n",
       "      <td>0.263402</td>\n",
       "      <td>0.378176</td>\n",
       "      <td>0.505440</td>\n",
       "      <td>1.000000</td>\n",
       "      <td>0.270181</td>\n",
       "      <td>0.424972</td>\n",
       "    </tr>\n",
       "    <tr>\n",
       "      <th>fun5_3</th>\n",
       "      <td>0.100164</td>\n",
       "      <td>-0.046558</td>\n",
       "      <td>-0.067432</td>\n",
       "      <td>-0.050316</td>\n",
       "      <td>0.114254</td>\n",
       "      <td>0.103025</td>\n",
       "      <td>0.105866</td>\n",
       "      <td>0.148984</td>\n",
       "      <td>0.236393</td>\n",
       "      <td>0.043915</td>\n",
       "      <td>...</td>\n",
       "      <td>0.388431</td>\n",
       "      <td>0.172901</td>\n",
       "      <td>0.292684</td>\n",
       "      <td>0.775198</td>\n",
       "      <td>0.336507</td>\n",
       "      <td>0.406725</td>\n",
       "      <td>0.331171</td>\n",
       "      <td>0.270181</td>\n",
       "      <td>1.000000</td>\n",
       "      <td>0.398011</td>\n",
       "    </tr>\n",
       "    <tr>\n",
       "      <th>amb5_3</th>\n",
       "      <td>0.055229</td>\n",
       "      <td>-0.119108</td>\n",
       "      <td>0.055267</td>\n",
       "      <td>-0.118940</td>\n",
       "      <td>0.145598</td>\n",
       "      <td>0.057933</td>\n",
       "      <td>0.110299</td>\n",
       "      <td>0.075472</td>\n",
       "      <td>0.052459</td>\n",
       "      <td>0.044849</td>\n",
       "      <td>...</td>\n",
       "      <td>0.214301</td>\n",
       "      <td>0.146923</td>\n",
       "      <td>0.349938</td>\n",
       "      <td>0.442050</td>\n",
       "      <td>0.610380</td>\n",
       "      <td>0.205368</td>\n",
       "      <td>0.268553</td>\n",
       "      <td>0.424972</td>\n",
       "      <td>0.398011</td>\n",
       "      <td>1.000000</td>\n",
       "    </tr>\n",
       "  </tbody>\n",
       "</table>\n",
       "<p>187 rows × 187 columns</p>\n",
       "</div>"
      ],
      "text/plain": [
       "               iid        id    gender       idg    condtn      wave  \\\n",
       "iid       1.000000  0.117109  0.051937  0.120362  0.220413  0.996713   \n",
       "id        0.117109  1.000000 -0.011623  0.998029  0.318768  0.091571   \n",
       "gender    0.051937 -0.011623  1.000000  0.033645 -0.002627 -0.001264   \n",
       "idg       0.120362  0.998029  0.033645  1.000000  0.324838  0.092645   \n",
       "condtn    0.220413  0.318768 -0.002627  0.324838  1.000000  0.219627   \n",
       "...            ...       ...       ...       ...       ...       ...   \n",
       "attr5_3   0.092325 -0.018183 -0.103692 -0.020785  0.068552  0.092906   \n",
       "sinc5_3  -0.053698 -0.007993 -0.289694 -0.022967 -0.063407 -0.028111   \n",
       "intel5_3  0.006949 -0.088398  0.076538 -0.086071  0.068622  0.000644   \n",
       "fun5_3    0.100164 -0.046558 -0.067432 -0.050316  0.114254  0.103025   \n",
       "amb5_3    0.055229 -0.119108  0.055267 -0.118940  0.145598  0.057933   \n",
       "\n",
       "             round  position  positin1     order  ...   attr3_3   sinc3_3  \\\n",
       "iid       0.231881  0.081287  0.070443  0.090696  ... -0.003738 -0.005157   \n",
       "id        0.374462  0.168382  0.174008  0.149216  ...  0.024213 -0.041815   \n",
       "gender    0.020630 -0.001091  0.005853  0.006685  ... -0.125433 -0.159709   \n",
       "idg       0.387715  0.171495  0.177639  0.154691  ...  0.020597 -0.051671   \n",
       "condtn    0.816316  0.329120  0.308641  0.324108  ...  0.082965  0.034376   \n",
       "...            ...       ...       ...       ...  ...       ...       ...   \n",
       "attr5_3   0.025047  0.073360  0.201356  0.009776  ...  0.851922  0.177047   \n",
       "sinc5_3  -0.027437  0.099616  0.102406 -0.010260  ...  0.222731  0.614853   \n",
       "intel5_3  0.000923  0.093856  0.112979 -0.000037  ...  0.351189  0.275642   \n",
       "fun5_3    0.105866  0.148984  0.236393  0.043915  ...  0.388431  0.172901   \n",
       "amb5_3    0.110299  0.075472  0.052459  0.044849  ...  0.214301  0.146923   \n",
       "\n",
       "          intel3_3    fun3_3    amb3_3   attr5_3   sinc5_3  intel5_3  \\\n",
       "iid      -0.117348  0.039944 -0.020409  0.092325 -0.053698  0.006949   \n",
       "id       -0.051621 -0.029917  0.010202 -0.018183 -0.007993 -0.088398   \n",
       "gender    0.023925 -0.144642 -0.058300 -0.103692 -0.289694  0.076538   \n",
       "idg      -0.051081 -0.036368  0.007404 -0.020785 -0.022967 -0.086071   \n",
       "condtn    0.067836  0.066229  0.023614  0.068552 -0.063407  0.068622   \n",
       "...            ...       ...       ...       ...       ...       ...   \n",
       "attr5_3   0.444624  0.400945  0.222258  1.000000  0.197948  0.378176   \n",
       "sinc5_3   0.313755  0.184837  0.130029  0.197948  1.000000  0.505440   \n",
       "intel5_3  0.681735  0.251750  0.263402  0.378176  0.505440  1.000000   \n",
       "fun5_3    0.292684  0.775198  0.336507  0.406725  0.331171  0.270181   \n",
       "amb5_3    0.349938  0.442050  0.610380  0.205368  0.268553  0.424972   \n",
       "\n",
       "            fun5_3    amb5_3  \n",
       "iid       0.100164  0.055229  \n",
       "id       -0.046558 -0.119108  \n",
       "gender   -0.067432  0.055267  \n",
       "idg      -0.050316 -0.118940  \n",
       "condtn    0.114254  0.145598  \n",
       "...            ...       ...  \n",
       "attr5_3   0.406725  0.205368  \n",
       "sinc5_3   0.331171  0.268553  \n",
       "intel5_3  0.270181  0.424972  \n",
       "fun5_3    1.000000  0.398011  \n",
       "amb5_3    0.398011  1.000000  \n",
       "\n",
       "[187 rows x 187 columns]"
      ]
     },
     "execution_count": 6,
     "metadata": {},
     "output_type": "execute_result"
    }
   ],
   "source": [
    "# look at correlations\n",
    "corr = df.corr()\n",
    "corr"
   ]
  },
  {
   "cell_type": "code",
   "execution_count": 7,
   "metadata": {
    "scrolled": true
   },
   "outputs": [
    {
     "data": {
      "text/plain": [
       "<matplotlib.axes._subplots.AxesSubplot at 0x2991512add8>"
      ]
     },
     "execution_count": 7,
     "metadata": {},
     "output_type": "execute_result"
    },
    {
     "data": {
      "image/png": "[encoded data removed]",
      "text/plain": [
       "<Figure size 432x288 with 2 Axes>"
      ]
     },
     "metadata": {
      "needs_background": "light"
     },
     "output_type": "display_data"
    }
   ],
   "source": [
    "sns.heatmap(corr, xticklabels=corr.columns, yticklabels=corr.columns)"
   ]
  },
  {
   "cell_type": "code",
   "execution_count": 8,
   "metadata": {
    "scrolled": true
   },
   "outputs": [
    {
     "data": {
      "text/plain": [
       "<matplotlib.axes._subplots.AxesSubplot at 0x29917797f60>"
      ]
     },
     "execution_count": 8,
     "metadata": {},
     "output_type": "execute_result"
    },
    {
     "data": {
      "image/png": "[encoded data removed]",
      "text/plain": [
       "<Figure size 432x288 with 2 Axes>"
      ]
     },
     "metadata": {
      "needs_background": "light"
     },
     "output_type": "display_data"
    }
   ],
   "source": [
    "# correlation between some variables and decicion\n",
    "dfFiltered = df[[\"samerace\", \"dec_o\", \"age_o\", \"int_corr\"]]\n",
    "corrFiltered = dfFiltered.corr()\n",
    "sns.heatmap(corrFiltered, xticklabels=corrFiltered.columns, yticklabels=corrFiltered.columns)"
   ]
  },
  {
   "cell_type": "code",
   "execution_count": 9,
   "metadata": {
    "scrolled": true
   },
   "outputs": [
    {
     "data": {
      "text/html": [
       "<div>\n",
       "<style scoped>\n",
       "    .dataframe tbody tr th:only-of-type {\n",
       "        vertical-align: middle;\n",
       "    }\n",
       "\n",
       "    .dataframe tbody tr th {\n",
       "        vertical-align: top;\n",
       "    }\n",
       "\n",
       "    .dataframe thead th {\n",
       "        text-align: right;\n",
       "    }\n",
       "</style>\n",
       "<table border=\"1\" class=\"dataframe\">\n",
       "  <thead>\n",
       "    <tr style=\"text-align: right;\">\n",
       "      <th></th>\n",
       "      <th>samerace</th>\n",
       "      <th>dec_o</th>\n",
       "      <th>age_o</th>\n",
       "      <th>int_corr</th>\n",
       "    </tr>\n",
       "  </thead>\n",
       "  <tbody>\n",
       "    <tr>\n",
       "      <th>samerace</th>\n",
       "      <td>1.000000</td>\n",
       "      <td>0.023626</td>\n",
       "      <td>0.005766</td>\n",
       "      <td>0.025215</td>\n",
       "    </tr>\n",
       "    <tr>\n",
       "      <th>dec_o</th>\n",
       "      <td>0.023626</td>\n",
       "      <td>1.000000</td>\n",
       "      <td>0.015128</td>\n",
       "      <td>0.019005</td>\n",
       "    </tr>\n",
       "    <tr>\n",
       "      <th>age_o</th>\n",
       "      <td>0.005766</td>\n",
       "      <td>0.015128</td>\n",
       "      <td>1.000000</td>\n",
       "      <td>0.089677</td>\n",
       "    </tr>\n",
       "    <tr>\n",
       "      <th>int_corr</th>\n",
       "      <td>0.025215</td>\n",
       "      <td>0.019005</td>\n",
       "      <td>0.089677</td>\n",
       "      <td>1.000000</td>\n",
       "    </tr>\n",
       "  </tbody>\n",
       "</table>\n",
       "</div>"
      ],
      "text/plain": [
       "          samerace     dec_o     age_o  int_corr\n",
       "samerace  1.000000  0.023626  0.005766  0.025215\n",
       "dec_o     0.023626  1.000000  0.015128  0.019005\n",
       "age_o     0.005766  0.015128  1.000000  0.089677\n",
       "int_corr  0.025215  0.019005  0.089677  1.000000"
      ]
     },
     "execution_count": 9,
     "metadata": {},
     "output_type": "execute_result"
    }
   ],
   "source": [
    "corrFiltered"
   ]
  },
  {
   "attachments": {},
   "cell_type": "markdown",
   "metadata": {},
   "source": [
    "Now I will look at some more demographic data in regards to *dec_o*."
   ]
  },
  {
   "cell_type": "code",
   "execution_count": 10,
   "metadata": {
    "scrolled": true
   },
   "outputs": [
    {
     "data": {
      "text/plain": [
       "<matplotlib.axes._subplots.AxesSubplot at 0x299178526d8>"
      ]
     },
     "execution_count": 10,
     "metadata": {},
     "output_type": "execute_result"
    },
    {
     "data": {
      "image/png": "[encoded data removed]",
      "text/plain": [
       "<Figure size 432x288 with 2 Axes>"
      ]
     },
     "metadata": {
      "needs_background": "light"
     },
     "output_type": "display_data"
    }
   ],
   "source": [
    "dfDemo = df[[\"dec_o\", \"field_cd\", \"age\", \"mn_sat\", \"income\", \"goal\", \"date\", \"go_out\", \"exphappy\"]]\n",
    "corrDemo = dfDemo.corr()\n",
    "sns.heatmap(corrDemo, xticklabels=corrDemo.columns, yticklabels=corrDemo.columns)"
   ]
  },
  {
   "cell_type": "code",
   "execution_count": 11,
   "metadata": {},
   "outputs": [
    {
     "data": {
      "text/html": [
       "<div>\n",
       "<style scoped>\n",
       "    .dataframe tbody tr th:only-of-type {\n",
       "        vertical-align: middle;\n",
       "    }\n",
       "\n",
       "    .dataframe tbody tr th {\n",
       "        vertical-align: top;\n",
       "    }\n",
       "\n",
       "    .dataframe thead th {\n",
       "        text-align: right;\n",
       "    }\n",
       "</style>\n",
       "<table border=\"1\" class=\"dataframe\">\n",
       "  <thead>\n",
       "    <tr style=\"text-align: right;\">\n",
       "      <th></th>\n",
       "      <th>dec_o</th>\n",
       "      <th>field_cd</th>\n",
       "      <th>age</th>\n",
       "      <th>goal</th>\n",
       "      <th>date</th>\n",
       "      <th>go_out</th>\n",
       "      <th>exphappy</th>\n",
       "    </tr>\n",
       "  </thead>\n",
       "  <tbody>\n",
       "    <tr>\n",
       "      <th>dec_o</th>\n",
       "      <td>1.000000</td>\n",
       "      <td>0.020921</td>\n",
       "      <td>-0.047854</td>\n",
       "      <td>-0.014354</td>\n",
       "      <td>-0.065328</td>\n",
       "      <td>-0.108468</td>\n",
       "      <td>-0.039715</td>\n",
       "    </tr>\n",
       "    <tr>\n",
       "      <th>field_cd</th>\n",
       "      <td>0.020921</td>\n",
       "      <td>1.000000</td>\n",
       "      <td>0.138069</td>\n",
       "      <td>-0.072600</td>\n",
       "      <td>-0.067584</td>\n",
       "      <td>-0.029070</td>\n",
       "      <td>-0.001385</td>\n",
       "    </tr>\n",
       "    <tr>\n",
       "      <th>age</th>\n",
       "      <td>-0.047854</td>\n",
       "      <td>0.138069</td>\n",
       "      <td>1.000000</td>\n",
       "      <td>0.089560</td>\n",
       "      <td>0.006817</td>\n",
       "      <td>0.084113</td>\n",
       "      <td>0.045277</td>\n",
       "    </tr>\n",
       "    <tr>\n",
       "      <th>goal</th>\n",
       "      <td>-0.014354</td>\n",
       "      <td>-0.072600</td>\n",
       "      <td>0.089560</td>\n",
       "      <td>1.000000</td>\n",
       "      <td>0.050662</td>\n",
       "      <td>0.053531</td>\n",
       "      <td>-0.100861</td>\n",
       "    </tr>\n",
       "    <tr>\n",
       "      <th>date</th>\n",
       "      <td>-0.065328</td>\n",
       "      <td>-0.067584</td>\n",
       "      <td>0.006817</td>\n",
       "      <td>0.050662</td>\n",
       "      <td>1.000000</td>\n",
       "      <td>0.336955</td>\n",
       "      <td>-0.085861</td>\n",
       "    </tr>\n",
       "    <tr>\n",
       "      <th>go_out</th>\n",
       "      <td>-0.108468</td>\n",
       "      <td>-0.029070</td>\n",
       "      <td>0.084113</td>\n",
       "      <td>0.053531</td>\n",
       "      <td>0.336955</td>\n",
       "      <td>1.000000</td>\n",
       "      <td>0.004421</td>\n",
       "    </tr>\n",
       "    <tr>\n",
       "      <th>exphappy</th>\n",
       "      <td>-0.039715</td>\n",
       "      <td>-0.001385</td>\n",
       "      <td>0.045277</td>\n",
       "      <td>-0.100861</td>\n",
       "      <td>-0.085861</td>\n",
       "      <td>0.004421</td>\n",
       "      <td>1.000000</td>\n",
       "    </tr>\n",
       "  </tbody>\n",
       "</table>\n",
       "</div>"
      ],
      "text/plain": [
       "             dec_o  field_cd       age      goal      date    go_out  exphappy\n",
       "dec_o     1.000000  0.020921 -0.047854 -0.014354 -0.065328 -0.108468 -0.039715\n",
       "field_cd  0.020921  1.000000  0.138069 -0.072600 -0.067584 -0.029070 -0.001385\n",
       "age      -0.047854  0.138069  1.000000  0.089560  0.006817  0.084113  0.045277\n",
       "goal     -0.014354 -0.072600  0.089560  1.000000  0.050662  0.053531 -0.100861\n",
       "date     -0.065328 -0.067584  0.006817  0.050662  1.000000  0.336955 -0.085861\n",
       "go_out   -0.108468 -0.029070  0.084113  0.053531  0.336955  1.000000  0.004421\n",
       "exphappy -0.039715 -0.001385  0.045277 -0.100861 -0.085861  0.004421  1.000000"
      ]
     },
     "execution_count": 11,
     "metadata": {},
     "output_type": "execute_result"
    }
   ],
   "source": [
    "corrDemo"
   ]
  },
  {
   "cell_type": "code",
   "execution_count": 12,
   "metadata": {},
   "outputs": [
    {
     "data": {
      "text/plain": [
       "<matplotlib.axes._subplots.AxesSubplot at 0x299178ed2e8>"
      ]
     },
     "execution_count": 12,
     "metadata": {},
     "output_type": "execute_result"
    },
    {
     "data": {
      "image/png": "[encoded data removed]",
      "text/plain": [
       "<Figure size 432x288 with 2 Axes>"
      ]
     },
     "metadata": {
      "needs_background": "light"
     },
     "output_type": "display_data"
    }
   ],
   "source": [
    "dfActivities = df[[\"dec_o\", \"sports\", \"tvsports\", \"exercise\", \"dining\", \"museums\", \"art\", \"hiking\", \"gaming\", \"clubbing\", \"reading\", \"tv\", \"theater\", \"movies\", \"concerts\", \"music\", \"shopping\", \"yoga\"]]\n",
    "corrActivities = dfActivities.corr()\n",
    "sns.heatmap(corrActivities, xticklabels=corrActivities.columns, yticklabels=corrActivities.columns)"
   ]
  },
  {
   "attachments": {},
   "cell_type": "markdown",
   "metadata": {},
   "source": [
    "Activities do not seem to influence the dependent variable a lot."
   ]
  },
  {
   "cell_type": "code",
   "execution_count": 13,
   "metadata": {},
   "outputs": [
    {
     "data": {
      "text/plain": [
       "dec_o       1.000000\n",
       "sports      0.056901\n",
       "tvsports   -0.021408\n",
       "exercise    0.082492\n",
       "dining      0.061716\n",
       "museums     0.020517\n",
       "art         0.024805\n",
       "hiking      0.030378\n",
       "gaming     -0.046669\n",
       "clubbing    0.057276\n",
       "reading    -0.001842\n",
       "tv         -0.035415\n",
       "theater    -0.009061\n",
       "movies     -0.021548\n",
       "concerts   -0.000336\n",
       "music       0.016763\n",
       "shopping    0.048957\n",
       "yoga        0.027476\n",
       "Name: dec_o, dtype: float64"
      ]
     },
     "execution_count": 13,
     "metadata": {},
     "output_type": "execute_result"
    }
   ],
   "source": [
    "corrActivities.iloc[0]"
   ]
  },
  {
   "cell_type": "code",
   "execution_count": 14,
   "metadata": {
    "scrolled": true
   },
   "outputs": [
    {
     "data": {
      "text/plain": [
       "<matplotlib.axes._subplots.AxesSubplot at 0x299178d53c8>"
      ]
     },
     "execution_count": 14,
     "metadata": {},
     "output_type": "execute_result"
    },
    {
     "data": {
      "image/png": "[encoded data removed]",
      "text/plain": [
       "<Figure size 432x288 with 2 Axes>"
      ]
     },
     "metadata": {
      "needs_background": "light"
     },
     "output_type": "display_data"
    }
   ],
   "source": [
    "# see correlation between self perception and dec_o\n",
    "dfSelf = df[[\"dec_o\", \"attr5_3\", \"sinc5_3\", \"intel5_3\", \"fun5_3\", \"amb5_3\"]]\n",
    "corrSelf = dfSelf.corr()\n",
    "sns.heatmap(corrSelf, xticklabels=corrSelf.columns, yticklabels=corrSelf.columns)"
   ]
  },
  {
   "cell_type": "code",
   "execution_count": 15,
   "metadata": {},
   "outputs": [
    {
     "data": {
      "text/html": [
       "<div>\n",
       "<style scoped>\n",
       "    .dataframe tbody tr th:only-of-type {\n",
       "        vertical-align: middle;\n",
       "    }\n",
       "\n",
       "    .dataframe tbody tr th {\n",
       "        vertical-align: top;\n",
       "    }\n",
       "\n",
       "    .dataframe thead th {\n",
       "        text-align: right;\n",
       "    }\n",
       "</style>\n",
       "<table border=\"1\" class=\"dataframe\">\n",
       "  <thead>\n",
       "    <tr style=\"text-align: right;\">\n",
       "      <th></th>\n",
       "      <th>dec_o</th>\n",
       "      <th>attr5_3</th>\n",
       "      <th>sinc5_3</th>\n",
       "      <th>intel5_3</th>\n",
       "      <th>fun5_3</th>\n",
       "      <th>amb5_3</th>\n",
       "    </tr>\n",
       "  </thead>\n",
       "  <tbody>\n",
       "    <tr>\n",
       "      <th>dec_o</th>\n",
       "      <td>1.000000</td>\n",
       "      <td>0.114940</td>\n",
       "      <td>-0.016138</td>\n",
       "      <td>0.006987</td>\n",
       "      <td>0.083950</td>\n",
       "      <td>-0.003364</td>\n",
       "    </tr>\n",
       "    <tr>\n",
       "      <th>attr5_3</th>\n",
       "      <td>0.114940</td>\n",
       "      <td>1.000000</td>\n",
       "      <td>0.197948</td>\n",
       "      <td>0.378176</td>\n",
       "      <td>0.406725</td>\n",
       "      <td>0.205368</td>\n",
       "    </tr>\n",
       "    <tr>\n",
       "      <th>sinc5_3</th>\n",
       "      <td>-0.016138</td>\n",
       "      <td>0.197948</td>\n",
       "      <td>1.000000</td>\n",
       "      <td>0.505440</td>\n",
       "      <td>0.331171</td>\n",
       "      <td>0.268553</td>\n",
       "    </tr>\n",
       "    <tr>\n",
       "      <th>intel5_3</th>\n",
       "      <td>0.006987</td>\n",
       "      <td>0.378176</td>\n",
       "      <td>0.505440</td>\n",
       "      <td>1.000000</td>\n",
       "      <td>0.270181</td>\n",
       "      <td>0.424972</td>\n",
       "    </tr>\n",
       "    <tr>\n",
       "      <th>fun5_3</th>\n",
       "      <td>0.083950</td>\n",
       "      <td>0.406725</td>\n",
       "      <td>0.331171</td>\n",
       "      <td>0.270181</td>\n",
       "      <td>1.000000</td>\n",
       "      <td>0.398011</td>\n",
       "    </tr>\n",
       "    <tr>\n",
       "      <th>amb5_3</th>\n",
       "      <td>-0.003364</td>\n",
       "      <td>0.205368</td>\n",
       "      <td>0.268553</td>\n",
       "      <td>0.424972</td>\n",
       "      <td>0.398011</td>\n",
       "      <td>1.000000</td>\n",
       "    </tr>\n",
       "  </tbody>\n",
       "</table>\n",
       "</div>"
      ],
      "text/plain": [
       "             dec_o   attr5_3   sinc5_3  intel5_3    fun5_3    amb5_3\n",
       "dec_o     1.000000  0.114940 -0.016138  0.006987  0.083950 -0.003364\n",
       "attr5_3   0.114940  1.000000  0.197948  0.378176  0.406725  0.205368\n",
       "sinc5_3  -0.016138  0.197948  1.000000  0.505440  0.331171  0.268553\n",
       "intel5_3  0.006987  0.378176  0.505440  1.000000  0.270181  0.424972\n",
       "fun5_3    0.083950  0.406725  0.331171  0.270181  1.000000  0.398011\n",
       "amb5_3   -0.003364  0.205368  0.268553  0.424972  0.398011  1.000000"
      ]
     },
     "execution_count": 15,
     "metadata": {},
     "output_type": "execute_result"
    }
   ],
   "source": [
    "corrSelf"
   ]
  },
  {
   "cell_type": "code",
   "execution_count": 16,
   "metadata": {},
   "outputs": [],
   "source": [
    "corrSorted = corr[\"dec_o\"].sort_values()"
   ]
  },
  {
   "cell_type": "code",
   "execution_count": 17,
   "metadata": {},
   "outputs": [
    {
     "data": {
      "text/plain": [
       "gender    -0.111550\n",
       "go_out    -0.108468\n",
       "shar1_s   -0.091229\n",
       "shar1_1   -0.079075\n",
       "sinc1_3   -0.074292\n",
       "             ...   \n",
       "fun_o      0.414276\n",
       "attr_o     0.486885\n",
       "like_o     0.513399\n",
       "match      0.522326\n",
       "dec_o      1.000000\n",
       "Name: dec_o, Length: 187, dtype: float64"
      ]
     },
     "execution_count": 17,
     "metadata": {},
     "output_type": "execute_result"
    }
   ],
   "source": [
    "corrSorted"
   ]
  },
  {
   "cell_type": "code",
   "execution_count": 43,
   "metadata": {},
   "outputs": [
    {
     "data": {
      "text/plain": [
       "<matplotlib.axes._subplots.AxesSubplot at 0x29917b922b0>"
      ]
     },
     "execution_count": 43,
     "metadata": {},
     "output_type": "execute_result"
    },
    {
     "data": {
      "image/png": "[encoded data removed]",
      "text/plain": [
       "<Figure size 432x288 with 1 Axes>"
      ]
     },
     "metadata": {
      "needs_background": "light"
     },
     "output_type": "display_data"
    }
   ],
   "source": [
    "corrTransposed = pd.DataFrame(corrSorted.iloc[-10:-1]).T\n",
    "sns.barplot(data=corrTransposed)"
   ]
  },
  {
   "attachments": {},
   "cell_type": "markdown",
   "metadata": {},
   "source": [
    "These are the highest correlations. How the other person (the one that also makes the decision *dec_o*) rates the participant regarding attractiveness, intellicence, if its a match etc. are standing out."
   ]
  },
  {
   "cell_type": "code",
   "execution_count": 44,
   "metadata": {},
   "outputs": [
    {
     "data": {
      "text/plain": [
       "Index(['them_cal', 'sinc_o', 'intel_o', 'prob_o', 'shar_o', 'fun_o', 'attr_o',\n",
       "       'like_o', 'match'],\n",
       "      dtype='object')"
      ]
     },
     "execution_count": 44,
     "metadata": {},
     "output_type": "execute_result"
    }
   ],
   "source": [
    "corrTransposed.columns"
   ]
  },
  {
   "cell_type": "code",
   "execution_count": 20,
   "metadata": {},
   "outputs": [],
   "source": [
    "# comparing self & prefered\n",
    "dfPref = df[[\"dec_o\", \"pf_o_att\", \"pf_o_sin\", \"pf_o_int\", \"pf_o_fun\", \"pf_o_amb\", \"pf_o_sha\", \"attr5_3\", \"sinc5_3\", \"intel5_3\", \"fun5_3\", \"amb5_3\"]]"
   ]
  },
  {
   "cell_type": "code",
   "execution_count": 21,
   "metadata": {
    "scrolled": true
   },
   "outputs": [
    {
     "data": {
      "text/html": [
       "<div>\n",
       "<style scoped>\n",
       "    .dataframe tbody tr th:only-of-type {\n",
       "        vertical-align: middle;\n",
       "    }\n",
       "\n",
       "    .dataframe tbody tr th {\n",
       "        vertical-align: top;\n",
       "    }\n",
       "\n",
       "    .dataframe thead th {\n",
       "        text-align: right;\n",
       "    }\n",
       "</style>\n",
       "<table border=\"1\" class=\"dataframe\">\n",
       "  <thead>\n",
       "    <tr style=\"text-align: right;\">\n",
       "      <th></th>\n",
       "      <th>dec_o</th>\n",
       "      <th>pf_o_att</th>\n",
       "      <th>pf_o_sin</th>\n",
       "      <th>pf_o_int</th>\n",
       "      <th>pf_o_fun</th>\n",
       "      <th>pf_o_amb</th>\n",
       "      <th>pf_o_sha</th>\n",
       "      <th>attr5_3</th>\n",
       "      <th>sinc5_3</th>\n",
       "      <th>intel5_3</th>\n",
       "      <th>fun5_3</th>\n",
       "      <th>amb5_3</th>\n",
       "    </tr>\n",
       "  </thead>\n",
       "  <tbody>\n",
       "    <tr>\n",
       "      <th>dec_o</th>\n",
       "      <td>1.000000</td>\n",
       "      <td>-0.020910</td>\n",
       "      <td>0.028900</td>\n",
       "      <td>-0.006506</td>\n",
       "      <td>-0.003439</td>\n",
       "      <td>-0.022224</td>\n",
       "      <td>0.042590</td>\n",
       "      <td>0.114940</td>\n",
       "      <td>-0.016138</td>\n",
       "      <td>0.006987</td>\n",
       "      <td>0.083950</td>\n",
       "      <td>-0.003364</td>\n",
       "    </tr>\n",
       "    <tr>\n",
       "      <th>pf_o_att</th>\n",
       "      <td>-0.020910</td>\n",
       "      <td>1.000000</td>\n",
       "      <td>-0.439447</td>\n",
       "      <td>-0.349489</td>\n",
       "      <td>-0.183586</td>\n",
       "      <td>-0.475981</td>\n",
       "      <td>-0.453623</td>\n",
       "      <td>0.052063</td>\n",
       "      <td>0.118586</td>\n",
       "      <td>-0.032166</td>\n",
       "      <td>0.060190</td>\n",
       "      <td>-0.024261</td>\n",
       "    </tr>\n",
       "    <tr>\n",
       "      <th>pf_o_sin</th>\n",
       "      <td>0.028900</td>\n",
       "      <td>-0.439447</td>\n",
       "      <td>1.000000</td>\n",
       "      <td>-0.113403</td>\n",
       "      <td>-0.161119</td>\n",
       "      <td>0.005628</td>\n",
       "      <td>0.037845</td>\n",
       "      <td>-0.035429</td>\n",
       "      <td>-0.059383</td>\n",
       "      <td>0.009682</td>\n",
       "      <td>-0.026644</td>\n",
       "      <td>0.000655</td>\n",
       "    </tr>\n",
       "    <tr>\n",
       "      <th>pf_o_int</th>\n",
       "      <td>-0.006506</td>\n",
       "      <td>-0.349489</td>\n",
       "      <td>-0.113403</td>\n",
       "      <td>1.000000</td>\n",
       "      <td>-0.142172</td>\n",
       "      <td>-0.040297</td>\n",
       "      <td>-0.081243</td>\n",
       "      <td>-0.011193</td>\n",
       "      <td>-0.035511</td>\n",
       "      <td>0.011675</td>\n",
       "      <td>0.001190</td>\n",
       "      <td>0.011107</td>\n",
       "    </tr>\n",
       "    <tr>\n",
       "      <th>pf_o_fun</th>\n",
       "      <td>-0.003439</td>\n",
       "      <td>-0.183586</td>\n",
       "      <td>-0.161119</td>\n",
       "      <td>-0.142172</td>\n",
       "      <td>1.000000</td>\n",
       "      <td>-0.070598</td>\n",
       "      <td>-0.196330</td>\n",
       "      <td>-0.001917</td>\n",
       "      <td>0.026432</td>\n",
       "      <td>-0.013421</td>\n",
       "      <td>0.004332</td>\n",
       "      <td>0.029243</td>\n",
       "    </tr>\n",
       "    <tr>\n",
       "      <th>pf_o_amb</th>\n",
       "      <td>-0.022224</td>\n",
       "      <td>-0.475981</td>\n",
       "      <td>0.005628</td>\n",
       "      <td>-0.040297</td>\n",
       "      <td>-0.070598</td>\n",
       "      <td>1.000000</td>\n",
       "      <td>0.145760</td>\n",
       "      <td>-0.061571</td>\n",
       "      <td>-0.117870</td>\n",
       "      <td>0.039186</td>\n",
       "      <td>-0.069549</td>\n",
       "      <td>-0.002660</td>\n",
       "    </tr>\n",
       "    <tr>\n",
       "      <th>pf_o_sha</th>\n",
       "      <td>0.042590</td>\n",
       "      <td>-0.453623</td>\n",
       "      <td>0.037845</td>\n",
       "      <td>-0.081243</td>\n",
       "      <td>-0.196330</td>\n",
       "      <td>0.145760</td>\n",
       "      <td>1.000000</td>\n",
       "      <td>0.003576</td>\n",
       "      <td>-0.063176</td>\n",
       "      <td>0.020593</td>\n",
       "      <td>-0.038499</td>\n",
       "      <td>0.006907</td>\n",
       "    </tr>\n",
       "    <tr>\n",
       "      <th>attr5_3</th>\n",
       "      <td>0.114940</td>\n",
       "      <td>0.052063</td>\n",
       "      <td>-0.035429</td>\n",
       "      <td>-0.011193</td>\n",
       "      <td>-0.001917</td>\n",
       "      <td>-0.061571</td>\n",
       "      <td>0.003576</td>\n",
       "      <td>1.000000</td>\n",
       "      <td>0.197948</td>\n",
       "      <td>0.378176</td>\n",
       "      <td>0.406725</td>\n",
       "      <td>0.205368</td>\n",
       "    </tr>\n",
       "    <tr>\n",
       "      <th>sinc5_3</th>\n",
       "      <td>-0.016138</td>\n",
       "      <td>0.118586</td>\n",
       "      <td>-0.059383</td>\n",
       "      <td>-0.035511</td>\n",
       "      <td>0.026432</td>\n",
       "      <td>-0.117870</td>\n",
       "      <td>-0.063176</td>\n",
       "      <td>0.197948</td>\n",
       "      <td>1.000000</td>\n",
       "      <td>0.505440</td>\n",
       "      <td>0.331171</td>\n",
       "      <td>0.268553</td>\n",
       "    </tr>\n",
       "    <tr>\n",
       "      <th>intel5_3</th>\n",
       "      <td>0.006987</td>\n",
       "      <td>-0.032166</td>\n",
       "      <td>0.009682</td>\n",
       "      <td>0.011675</td>\n",
       "      <td>-0.013421</td>\n",
       "      <td>0.039186</td>\n",
       "      <td>0.020593</td>\n",
       "      <td>0.378176</td>\n",
       "      <td>0.505440</td>\n",
       "      <td>1.000000</td>\n",
       "      <td>0.270181</td>\n",
       "      <td>0.424972</td>\n",
       "    </tr>\n",
       "    <tr>\n",
       "      <th>fun5_3</th>\n",
       "      <td>0.083950</td>\n",
       "      <td>0.060190</td>\n",
       "      <td>-0.026644</td>\n",
       "      <td>0.001190</td>\n",
       "      <td>0.004332</td>\n",
       "      <td>-0.069549</td>\n",
       "      <td>-0.038499</td>\n",
       "      <td>0.406725</td>\n",
       "      <td>0.331171</td>\n",
       "      <td>0.270181</td>\n",
       "      <td>1.000000</td>\n",
       "      <td>0.398011</td>\n",
       "    </tr>\n",
       "    <tr>\n",
       "      <th>amb5_3</th>\n",
       "      <td>-0.003364</td>\n",
       "      <td>-0.024261</td>\n",
       "      <td>0.000655</td>\n",
       "      <td>0.011107</td>\n",
       "      <td>0.029243</td>\n",
       "      <td>-0.002660</td>\n",
       "      <td>0.006907</td>\n",
       "      <td>0.205368</td>\n",
       "      <td>0.268553</td>\n",
       "      <td>0.424972</td>\n",
       "      <td>0.398011</td>\n",
       "      <td>1.000000</td>\n",
       "    </tr>\n",
       "  </tbody>\n",
       "</table>\n",
       "</div>"
      ],
      "text/plain": [
       "             dec_o  pf_o_att  pf_o_sin  pf_o_int  pf_o_fun  pf_o_amb  \\\n",
       "dec_o     1.000000 -0.020910  0.028900 -0.006506 -0.003439 -0.022224   \n",
       "pf_o_att -0.020910  1.000000 -0.439447 -0.349489 -0.183586 -0.475981   \n",
       "pf_o_sin  0.028900 -0.439447  1.000000 -0.113403 -0.161119  0.005628   \n",
       "pf_o_int -0.006506 -0.349489 -0.113403  1.000000 -0.142172 -0.040297   \n",
       "pf_o_fun -0.003439 -0.183586 -0.161119 -0.142172  1.000000 -0.070598   \n",
       "pf_o_amb -0.022224 -0.475981  0.005628 -0.040297 -0.070598  1.000000   \n",
       "pf_o_sha  0.042590 -0.453623  0.037845 -0.081243 -0.196330  0.145760   \n",
       "attr5_3   0.114940  0.052063 -0.035429 -0.011193 -0.001917 -0.061571   \n",
       "sinc5_3  -0.016138  0.118586 -0.059383 -0.035511  0.026432 -0.117870   \n",
       "intel5_3  0.006987 -0.032166  0.009682  0.011675 -0.013421  0.039186   \n",
       "fun5_3    0.083950  0.060190 -0.026644  0.001190  0.004332 -0.069549   \n",
       "amb5_3   -0.003364 -0.024261  0.000655  0.011107  0.029243 -0.002660   \n",
       "\n",
       "          pf_o_sha   attr5_3   sinc5_3  intel5_3    fun5_3    amb5_3  \n",
       "dec_o     0.042590  0.114940 -0.016138  0.006987  0.083950 -0.003364  \n",
       "pf_o_att -0.453623  0.052063  0.118586 -0.032166  0.060190 -0.024261  \n",
       "pf_o_sin  0.037845 -0.035429 -0.059383  0.009682 -0.026644  0.000655  \n",
       "pf_o_int -0.081243 -0.011193 -0.035511  0.011675  0.001190  0.011107  \n",
       "pf_o_fun -0.196330 -0.001917  0.026432 -0.013421  0.004332  0.029243  \n",
       "pf_o_amb  0.145760 -0.061571 -0.117870  0.039186 -0.069549 -0.002660  \n",
       "pf_o_sha  1.000000  0.003576 -0.063176  0.020593 -0.038499  0.006907  \n",
       "attr5_3   0.003576  1.000000  0.197948  0.378176  0.406725  0.205368  \n",
       "sinc5_3  -0.063176  0.197948  1.000000  0.505440  0.331171  0.268553  \n",
       "intel5_3  0.020593  0.378176  0.505440  1.000000  0.270181  0.424972  \n",
       "fun5_3   -0.038499  0.406725  0.331171  0.270181  1.000000  0.398011  \n",
       "amb5_3    0.006907  0.205368  0.268553  0.424972  0.398011  1.000000  "
      ]
     },
     "execution_count": 21,
     "metadata": {},
     "output_type": "execute_result"
    }
   ],
   "source": [
    "prefCorr = dfPref.corr()\n",
    "prefCorr"
   ]
  },
  {
   "attachments": {},
   "cell_type": "markdown",
   "metadata": {},
   "source": [
    "I wanted to compare the self perception of the participants and if they have influence on the decision of the other person (higher confidence = more attractive?)"
   ]
  },
  {
   "attachments": {},
   "cell_type": "markdown",
   "metadata": {},
   "source": [
    "### Exploratory data analysis: Results\n",
    "I filtered out the most promising independent variables that show a high correlation with the dependent variable *dec_o*. Not suprisingly, *match* is the highest one with 0.52. So, if the participant thinks its a match, the other one is likely to say so too."
   ]
  },
  {
   "attachments": {},
   "cell_type": "markdown",
   "metadata": {},
   "source": [
    "# Predictive Model\n",
    "As a predictive model I will use random forest. The algorithm sets up multiple random decision trees that at the end will predict an outcome. Each tree is trained on a different sample and subset of the training data. So some will only use some variables, while others may use different ones. In this case, we want to predict *dec_o*, which is either 1 (the other one wants a second date) or 0 (no second date). That makes this a classification problem. Each tree will have an prediction based on the randomized decisions (0 or 1 / no or yes). Then, a majority voting will take place, resulting in one final outcome."
   ]
  },
  {
   "cell_type": "code",
   "execution_count": 22,
   "metadata": {},
   "outputs": [],
   "source": [
    "import sklearn as sk\n",
    "from sklearn.model_selection import train_test_split #We need this to split the data\n",
    "from sklearn.ensemble import RandomForestClassifier\n",
    "from sklearn.datasets import make_classification\n",
    "from sklearn.metrics import classification_report\n",
    "from sklearn.metrics import confusion_matrix"
   ]
  },
  {
   "cell_type": "code",
   "execution_count": 151,
   "metadata": {},
   "outputs": [],
   "source": [
    "# Create dataFrame with variables and drop NaNs\n",
    "# dfSample = df[[\"them_cal\", \"sinc_o\", \"intel_o\", \"prob_o\", \"shar_o\", \"fun_o\", \"attr_o\", \"like_o\", \"match\", \"dec_o\"]]\n",
    "\n",
    "# top 30\n",
    "dfSample = df[['length', 'attr7_3', 'sinc', 'intel', 'exercise', 'num_in_3', 'attr3_2',\n",
    "       'fun5_3', 'fun3_1', 'attr3_s', 'fun3_3', 'attr3_1', 'fun3_2', 'fun3_s',\n",
    "       'numdat_3', 'expnum', 'attr5_3', 'date_3', 'prob', 'amb_o', 'them_cal',\n",
    "       'sinc_o', 'intel_o', 'prob_o', 'shar_o', 'fun_o', 'attr_o', 'like_o',\n",
    "       'match', 'dec_o']]\n",
    "\n",
    "# just take all\n",
    "# dfSample = df.copy()\n",
    "\n",
    "# dummies?\n",
    "# dummies = pd.get_dummies(dfSample[[\"career\", \"field\", \"from\"]])\n",
    "# dfSample.drop([\"career\", \"field\", \"from\"], axis=1)\n",
    "# dfSample = dfSample.join(dummies)\n",
    "\n",
    "# drop all string type variables\n",
    "# dfSample = dfSample.drop([\"career\", \"field\", \"from\", \"undergra\", \"income\", \"mn_sat\", \"tuition\", \"zipcode\"], axis=1)\n",
    "\n",
    "# top 10\n",
    "# dfSample = df[['them_cal', 'sinc_o', 'intel_o', 'prob_o', 'shar_o', 'fun_o', 'attr_o',\n",
    "#        'like_o', 'match', 'dec_o']]\n",
    "\n",
    "dfSample = dfSample.fillna(0)\n",
    "# dfSample = dfSample.dropna()\n",
    "# print(dfSample.isna())"
   ]
  },
  {
   "cell_type": "code",
   "execution_count": 136,
   "metadata": {},
   "outputs": [],
   "source": [
    "# create data sets\n",
    "# X = dfSample[[\"them_cal\", \"sinc_o\", \"intel_o\", \"prob_o\", \"shar_o\", \"fun_o\", \"attr_o\", \"like_o\", \"match\"]] #create the X matrix\n",
    "X = dfSample.drop('dec_o', axis=1) # use all variables except dependent\n",
    "y = dfSample['dec_o'] # create the y-variable\n",
    "X_train, X_test, y_train, y_test = train_test_split(X, y, test_size=0.4, random_state=1) #split the data, store it into different variables"
   ]
  },
  {
   "cell_type": "code",
   "execution_count": 142,
   "metadata": {},
   "outputs": [
    {
     "data": {
      "text/plain": [
       "RandomForestClassifier(bootstrap=True, class_weight=None, criterion='gini',\n",
       "            max_depth=None, max_features='auto', max_leaf_nodes=None,\n",
       "            min_impurity_decrease=0.0, min_impurity_split=None,\n",
       "            min_samples_leaf=1, min_samples_split=2,\n",
       "            min_weight_fraction_leaf=0.0, n_estimators='warn', n_jobs=None,\n",
       "            oob_score=False, random_state=None, verbose=0,\n",
       "            warm_start=False)"
      ]
     },
     "execution_count": 142,
     "metadata": {},
     "output_type": "execute_result"
    }
   ],
   "source": [
    "# random forest\n",
    "X_train, y_train = make_classification(n_samples=5000, n_features=29, n_informative=2, n_redundant=0, random_state=0, shuffle=False)\n",
    "# 'n_estimators': 10, 'min_samples_leaf': 1, 'max_features': 7, 'max_depth': 2\n",
    "clf = RandomForestClassifier(n_estimators=20, min_samples_leaf=6, max_features=8, max_depth=14, random_state=44)\n",
    "clf.fit(X_train, y_train)\n",
    "RandomForestClassifier()"
   ]
  },
  {
   "cell_type": "code",
   "execution_count": 143,
   "metadata": {},
   "outputs": [
    {
     "name": "stdout",
     "output_type": "stream",
     "text": [
      " The importance of feature 'length is 5.56%.\n",
      " The importance of feature 'attr7_3 is 86.88%.\n",
      " The importance of feature 'sinc is 0.35%.\n",
      " The importance of feature 'intel is 0.23%.\n",
      " The importance of feature 'exercise is 0.23%.\n",
      " The importance of feature 'num_in_3 is 0.3%.\n",
      " The importance of feature 'attr3_2 is 0.32%.\n",
      " The importance of feature 'fun5_3 is 0.24%.\n",
      " The importance of feature 'fun3_1 is 0.36%.\n",
      " The importance of feature 'attr3_s is 0.35%.\n",
      " The importance of feature 'fun3_3 is 0.28%.\n",
      " The importance of feature 'attr3_1 is 0.24%.\n",
      " The importance of feature 'fun3_2 is 0.2%.\n",
      " The importance of feature 'fun3_s is 0.23%.\n",
      " The importance of feature 'numdat_3 is 0.16%.\n",
      " The importance of feature 'expnum is 0.31%.\n",
      " The importance of feature 'attr5_3 is 0.21%.\n",
      " The importance of feature 'date_3 is 0.28%.\n",
      " The importance of feature 'prob is 0.22%.\n",
      " The importance of feature 'amb_o is 0.2%.\n",
      " The importance of feature 'them_cal is 0.28%.\n",
      " The importance of feature 'sinc_o is 0.37%.\n",
      " The importance of feature 'intel_o is 0.33%.\n",
      " The importance of feature 'prob_o is 0.37%.\n",
      " The importance of feature 'shar_o is 0.27%.\n",
      " The importance of feature 'fun_o is 0.36%.\n",
      " The importance of feature 'attr_o is 0.26%.\n",
      " The importance of feature 'like_o is 0.31%.\n",
      " The importance of feature 'match is 0.32%.\n"
     ]
    }
   ],
   "source": [
    "importances = clf.feature_importances_\n",
    "columns = X.columns\n",
    "i = 0\n",
    "\n",
    "while i < len(columns):\n",
    "    print(f\" The importance of feature '{columns[i]} is {round(importances[i] * 100, 2)}%.\")\n",
    "    i += 1"
   ]
  },
  {
   "cell_type": "code",
   "execution_count": 144,
   "metadata": {},
   "outputs": [
    {
     "data": {
      "text/html": [
       "<div>\n",
       "<style scoped>\n",
       "    .dataframe tbody tr th:only-of-type {\n",
       "        vertical-align: middle;\n",
       "    }\n",
       "\n",
       "    .dataframe tbody tr th {\n",
       "        vertical-align: top;\n",
       "    }\n",
       "\n",
       "    .dataframe thead th {\n",
       "        text-align: right;\n",
       "    }\n",
       "</style>\n",
       "<table border=\"1\" class=\"dataframe\">\n",
       "  <thead>\n",
       "    <tr style=\"text-align: right;\">\n",
       "      <th></th>\n",
       "      <th>noDate_p</th>\n",
       "      <th>2ndDate_p</th>\n",
       "    </tr>\n",
       "  </thead>\n",
       "  <tbody>\n",
       "    <tr>\n",
       "      <th>noDate</th>\n",
       "      <td>906</td>\n",
       "      <td>1057</td>\n",
       "    </tr>\n",
       "    <tr>\n",
       "      <th>2ndDate</th>\n",
       "      <td>645</td>\n",
       "      <td>744</td>\n",
       "    </tr>\n",
       "  </tbody>\n",
       "</table>\n",
       "</div>"
      ],
      "text/plain": [
       "         noDate_p  2ndDate_p\n",
       "noDate        906       1057\n",
       "2ndDate       645        744"
      ]
     },
     "execution_count": 144,
     "metadata": {},
     "output_type": "execute_result"
    }
   ],
   "source": [
    "result = clf.predict(X_test)\n",
    "cm = confusion_matrix(y_test, result)\n",
    "conf_matrix = pd.DataFrame(cm, index=['noDate', '2ndDate'], columns = ['noDate_p', '2ndDate_p']) \n",
    "conf_matrix"
   ]
  },
  {
   "cell_type": "code",
   "execution_count": 146,
   "metadata": {},
   "outputs": [
    {
     "name": "stdout",
     "output_type": "stream",
     "text": [
      "              precision    recall  f1-score   support\n",
      "\n",
      "           0       0.58      0.46      0.52      1963\n",
      "           1       0.41      0.54      0.47      1389\n",
      "\n",
      "   micro avg       0.49      0.49      0.49      3352\n",
      "   macro avg       0.50      0.50      0.49      3352\n",
      "weighted avg       0.51      0.49      0.50      3352\n",
      "\n",
      "Accuracy =  0.4922434367541766\n"
     ]
    }
   ],
   "source": [
    "from sklearn.metrics import accuracy_score\n",
    "print(classification_report(y_test, result))\n",
    "print(\"Accuracy = \", accuracy_score(y_test,result))"
   ]
  },
  {
   "cell_type": "code",
   "execution_count": 141,
   "metadata": {},
   "outputs": [
    {
     "name": "stdout",
     "output_type": "stream",
     "text": [
      "Accuracy Score 0.4456910957269038\n",
      "Best params {'n_estimators': 20, 'min_samples_leaf': 6, 'max_features': 8, 'max_depth': 14}\n",
      "Best score 0.9652\n"
     ]
    }
   ],
   "source": [
    "# Inspired by https://stackoverflow.com/questions/60768008/how-to-choose-n-estimators-in-randomforestclassifier\n",
    "\n",
    "# Use RandomSearchCV for better parameters\n",
    "from sklearn.decomposition import PCA\n",
    "from sklearn.model_selection import RandomizedSearchCV\n",
    "from sklearn.preprocessing import StandardScaler\n",
    "\n",
    "parameter_grid={'n_estimators':[1,2,3,4,5,6,7,8,9,10,20,30,40],'max_depth':[2,4,6,8,10,12,14,16,18,20],'min_samples_leaf': \n",
    "[1,2,4,6,8,10],'max_features':[1,2,3,4,5,6,7,8]}\n",
    "\n",
    "number_models=20\n",
    "random_RandomForest_class=RandomizedSearchCV(estimator=RandomForestClassifier(n_estimators=1,max_depth=1,min_samples_leaf=3, max_features=6, random_state=42), param_distributions=parameter_grid, n_iter=number_models, scoring='accuracy', n_jobs=2, cv=4,refit=True, return_train_score=True)\n",
    "\n",
    "random_RandomForest_class.fit(X_train,y_train)\n",
    "predictions=random_RandomForest_class.predict(X)\n",
    "\n",
    "print(\"Accuracy Score\",accuracy_score(y,predictions));\n",
    "print(\"Best params\",random_RandomForest_class.best_params_)\n",
    "print(\"Best score\",random_RandomForest_class.best_score_)"
   ]
  },
  {
   "attachments": {},
   "cell_type": "markdown",
   "metadata": {},
   "source": [
    "## Evaluation\n",
    "I used the 29 highest correlating variables to predict the outcome *dec_o*. The model reaches an accuracy of ~0.49%. The prediction of \"no second date\" is 0.58, slightly higher than the prediction for \"second date\" with 0.41. The f1-score for the first one is slighty higher as well. This shows, that the model is minimaly better suited to predict if there will be no second date. I used a randomized search for the best parameters to use and tried different variables (all of them, the best 30, the best 10 ..). This is the highest accuracy I archieved.\n"
   ]
  },
  {
   "attachments": {},
   "cell_type": "markdown",
   "metadata": {},
   "source": [
    "# Conclusion\n",
    "The most important feature in the model is *attr7_3* with a weight of 86.88%. *attr7_3* points to the question, how highly participants would rate attractiveness in their decision, opposed to other values. Every other variable has a weight of under 1% (except *length*). I was suprised how little impact *match* has on the model, at is has shown the highest correlation with *dec_o* in the exploration before. Therefor I conclude, that to improve the still rather low accuracy of *.49* I have to find better suited variables. I took the ones with the highest correlation to the dependent variable. However, with more feature engineering and better data cleaning (dropping NAs would remove every row), I think the model could be performing way better."
   ]
  }
 ],
 "metadata": {
  "kernelspec": {
   "display_name": "base",
   "language": "python",
   "name": "python3"
  },
  "language_info": {
   "codemirror_mode": {
    "name": "ipython",
    "version": 3
   },
   "file_extension": ".py",
   "mimetype": "text/x-python",
   "name": "python",
   "nbconvert_exporter": "python",
   "pygments_lexer": "ipython3",
   "version": "3.7.3"
  },
  "vscode": {
   "interpreter": {
    "hash": "0aeacfeba1891135b1b71fa93436a04844c38560e8ad6882740ad86697f9c783"
   }
  }
 },
 "nbformat": 4,
 "nbformat_minor": 2
}
